{
 "cells": [
  {
   "cell_type": "markdown",
   "id": "f6a7e90c",
   "metadata": {},
   "source": [
    "# Analyzing the lyrics of the top-10 Kanye West songs\n",
    "Sources:\n",
    "\n",
    "https://www.timeout.com/music/best-kanye-west-songs - songs ranking\n",
    "\n",
    "https://www.lyrics.com/lyric/30984633/Kanye+West - songs lyrics"
   ]
  },
  {
   "cell_type": "code",
   "execution_count": 3,
   "id": "17e180c5",
   "metadata": {},
   "outputs": [],
   "source": [
    "import findspark\n",
    "findspark.init()"
   ]
  },
  {
   "cell_type": "code",
   "execution_count": 20,
   "id": "a664d9e5",
   "metadata": {},
   "outputs": [],
   "source": [
    "import numpy as np\n",
    "import pandas as pd\n",
    "from os import path\n",
    "from PIL import Image\n",
    "import matplotlib.pyplot as plt\n",
    "import seaborn as sns"
   ]
  },
  {
   "cell_type": "code",
   "execution_count": 4,
   "id": "ba7db305",
   "metadata": {},
   "outputs": [],
   "source": [
    "from pyspark.sql import SparkSession\n",
    "from pyspark.conf import SparkConf"
   ]
  },
  {
   "cell_type": "code",
   "execution_count": 37,
   "id": "048ecfd1",
   "metadata": {},
   "outputs": [],
   "source": [
    "#Initialing spark\n",
    "spark=SparkSession.builder\\\n",
    "    .master(\"local[*]\")\\\n",
    "    .appName(\"CounterOfWords\")\\\n",
    "    .getOrCreate()"
   ]
  },
  {
   "cell_type": "markdown",
   "id": "fe6a2265",
   "metadata": {},
   "source": [
    "# Importing and processing data"
   ]
  },
  {
   "cell_type": "code",
   "execution_count": 7,
   "id": "c2edfd98",
   "metadata": {},
   "outputs": [],
   "source": [
    "text = spark.sparkContext.textFile(r\"D:\\_HSE\\1 Course\\1_3\\Research sem\\input_data\\songs_lyrics\\song1.txt,\" + \n",
    "                                   r\"D:\\_HSE\\1 Course\\1_3\\Research sem\\input_data\\songs_lyrics\\song2.txt,\"+\n",
    "                                  r\"D:\\_HSE\\1 Course\\1_3\\Research sem\\input_data\\songs_lyrics\\song3.txt,\"+\n",
    "                                    r\"D:\\_HSE\\1 Course\\1_3\\Research sem\\input_data\\songs_lyrics\\song4.txt,\"+\n",
    "                                  r\"D:\\_HSE\\1 Course\\1_3\\Research sem\\input_data\\songs_lyrics\\song5.txt,\"+\n",
    "                                  r\"D:\\_HSE\\1 Course\\1_3\\Research sem\\input_data\\songs_lyrics\\song6.txt,\"+\n",
    "                                  r\"D:\\_HSE\\1 Course\\1_3\\Research sem\\input_data\\songs_lyrics\\song7.txt,\"+\n",
    "                                  r\"D:\\_HSE\\1 Course\\1_3\\Research sem\\input_data\\songs_lyrics\\song8.txt,\"+\n",
    "                                  r\"D:\\_HSE\\1 Course\\1_3\\Research sem\\input_data\\songs_lyrics\\song9.txt,\"+\n",
    "                                  r\"D:\\_HSE\\1 Course\\1_3\\Research sem\\input_data\\songs_lyrics\\song10.txt\")\n"
   ]
  },
  {
   "cell_type": "code",
   "execution_count": 8,
   "id": "c057b372",
   "metadata": {},
   "outputs": [],
   "source": [
    "def lower_clean_str(x):\n",
    "  punc='!\"#$%&\\'()*+,./:;<=>?@[\\\\]^_`{|}~-'\n",
    "  lowercased_str = x.lower()\n",
    "  for ch in punc:\n",
    "    lowercased_str = lowercased_str.replace(ch, '')\n",
    "  return lowercased_str"
   ]
  },
  {
   "cell_type": "code",
   "execution_count": 11,
   "id": "31959d87",
   "metadata": {},
   "outputs": [],
   "source": [
    "text_cleaned = text.map(lower_clean_str)\n"
   ]
  },
  {
   "cell_type": "code",
   "execution_count": 12,
   "id": "f25c21ab",
   "metadata": {},
   "outputs": [],
   "source": [
    "text_count = text_cleaned.flatMap(lambda x: x.split(' '))\\\n",
    "                .map(lambda x: (x, 1))\\\n",
    "                .reduceByKey(lambda x, y: x+y)"
   ]
  },
  {
   "cell_type": "code",
   "execution_count": 42,
   "id": "393b4bcb",
   "metadata": {},
   "outputs": [],
   "source": [
    "df = text_count.toDF()\n",
    "df1 = df.toPandas()"
   ]
  },
  {
   "cell_type": "code",
   "execution_count": 32,
   "id": "21352cd3",
   "metadata": {
    "scrolled": true
   },
   "outputs": [
    {
     "data": {
      "text/html": [
       "<div>\n",
       "<style scoped>\n",
       "    .dataframe tbody tr th:only-of-type {\n",
       "        vertical-align: middle;\n",
       "    }\n",
       "\n",
       "    .dataframe tbody tr th {\n",
       "        vertical-align: top;\n",
       "    }\n",
       "\n",
       "    .dataframe thead th {\n",
       "        text-align: right;\n",
       "    }\n",
       "</style>\n",
       "<table border=\"1\" class=\"dataframe\">\n",
       "  <thead>\n",
       "    <tr style=\"text-align: right;\">\n",
       "      <th></th>\n",
       "      <th>word</th>\n",
       "      <th>count</th>\n",
       "    </tr>\n",
       "  </thead>\n",
       "  <tbody>\n",
       "    <tr>\n",
       "      <th>432</th>\n",
       "      <td>i</td>\n",
       "      <td>225</td>\n",
       "    </tr>\n",
       "    <tr>\n",
       "      <th>122</th>\n",
       "      <td>you</td>\n",
       "      <td>124</td>\n",
       "    </tr>\n",
       "    <tr>\n",
       "      <th>7</th>\n",
       "      <td></td>\n",
       "      <td>84</td>\n",
       "    </tr>\n",
       "    <tr>\n",
       "      <th>320</th>\n",
       "      <td>my</td>\n",
       "      <td>69</td>\n",
       "    </tr>\n",
       "    <tr>\n",
       "      <th>558</th>\n",
       "      <td>me</td>\n",
       "      <td>65</td>\n",
       "    </tr>\n",
       "    <tr>\n",
       "      <th>551</th>\n",
       "      <td>all</td>\n",
       "      <td>53</td>\n",
       "    </tr>\n",
       "    <tr>\n",
       "      <th>745</th>\n",
       "      <td>your</td>\n",
       "      <td>51</td>\n",
       "    </tr>\n",
       "    <tr>\n",
       "      <th>340</th>\n",
       "      <td>baby</td>\n",
       "      <td>48</td>\n",
       "    </tr>\n",
       "    <tr>\n",
       "      <th>901</th>\n",
       "      <td>she</td>\n",
       "      <td>42</td>\n",
       "    </tr>\n",
       "    <tr>\n",
       "      <th>823</th>\n",
       "      <td>know</td>\n",
       "      <td>41</td>\n",
       "    </tr>\n",
       "  </tbody>\n",
       "</table>\n",
       "</div>"
      ],
      "text/plain": [
       "     word  count\n",
       "432     i    225\n",
       "122   you    124\n",
       "7             84\n",
       "320    my     69\n",
       "558    me     65\n",
       "551   all     53\n",
       "745  your     51\n",
       "340  baby     48\n",
       "901   she     42\n",
       "823  know     41"
      ]
     },
     "execution_count": 32,
     "metadata": {},
     "output_type": "execute_result"
    }
   ],
   "source": [
    "df1 = df1.rename(columns={'_1':'word', '_2':'count'})\n",
    "prepositions = ['the', 'a', 'to', 'and', 'in', 'it', 'im', 'of', 'up', 'get', 'is']\n",
    "df1 = df1[~df1['word'].isin(prepositions)]\n",
    "df_final = df1.sort_values('count', ascending=False).head(10)\n",
    "df_final"
   ]
  },
  {
   "cell_type": "markdown",
   "id": "61316304",
   "metadata": {},
   "source": [
    "## Data visualization\n",
    "I used to use \"wordcloud\", but it doesn't work, unfortunatelly"
   ]
  },
  {
   "cell_type": "code",
   "execution_count": 36,
   "id": "cb9af23c",
   "metadata": {
    "scrolled": true
   },
   "outputs": [
    {
     "data": {
      "text/plain": [
       "<AxesSubplot:xlabel='word', ylabel='count'>"
      ]
     },
     "execution_count": 36,
     "metadata": {},
     "output_type": "execute_result"
    },
    {
     "data": {
      "image/png": "[encoded data removed]",
      "text/plain": [
       "<Figure size 432x288 with 1 Axes>"
      ]
     },
     "metadata": {
      "needs_background": "light"
     },
     "output_type": "display_data"
    }
   ],
   "source": [
    "df_viz = sns.load_dataset('tips')\n",
    "sns.histplot(x = \"word\", y = \"count\", data = df_final)"
   ]
  },
  {
   "cell_type": "code",
   "execution_count": 40,
   "id": "29e1050e",
   "metadata": {},
   "outputs": [],
   "source": [
    "df1.to_csv(r'D:\\_HSE\\1 Course\\1_3\\Research sem\\output_data\\data-out.csv', index = False)"
   ]
  },
  {
   "cell_type": "code",
   "execution_count": null,
   "id": "4eaa8203",
   "metadata": {},
   "outputs": [],
   "source": []
  }
 ],
 "metadata": {
  "kernelspec": {
   "display_name": "Python 3 (ipykernel)",
   "language": "python",
   "name": "python3"
  },
  "language_info": {
   "codemirror_mode": {
    "name": "ipython",
    "version": 3
   },
   "file_extension": ".py",
   "mimetype": "text/x-python",
   "name": "python",
   "nbconvert_exporter": "python",
   "pygments_lexer": "ipython3",
   "version": "3.9.7"
  }
 },
 "nbformat": 4,
 "nbformat_minor": 5
}
